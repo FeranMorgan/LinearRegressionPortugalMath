{
 "cells": [
  {
   "cell_type": "code",
   "execution_count": 1,
   "metadata": {},
   "outputs": [],
   "source": [
    "import pandas as pd\n",
    "import matplotlib.pyplot as plt\n",
    "from sklearn import linear_model\n",
    "from sklearn.model_selection import train_test_split\n",
    "from sklearn import metrics"
   ]
  },
  {
   "cell_type": "markdown",
   "metadata": {},
   "source": [
    "The purpose of this Jupyter notebook is to demonstrate simple and multiple linear regression using data on features previously identified during EDA on a dataset of Portugese math students.\n",
    "To reiterate, 6 of the most relevant variables were selected as decent candidates for trying to predict the student's final test scores (G3) shown below. Additionally, a baseline was established using naive bayes classification. The most highly correlated variables with G3 were the previous tests G1 and G2, which gave R^2 values of .1933 and .4370 respectively (rounded).\n"
   ]
  },
  {
   "cell_type": "code",
   "execution_count": 2,
   "metadata": {},
   "outputs": [
    {
     "data": {
      "text/html": [
       "<div>\n",
       "<style scoped>\n",
       "    .dataframe tbody tr th:only-of-type {\n",
       "        vertical-align: middle;\n",
       "    }\n",
       "\n",
       "    .dataframe tbody tr th {\n",
       "        vertical-align: top;\n",
       "    }\n",
       "\n",
       "    .dataframe thead th {\n",
       "        text-align: right;\n",
       "    }\n",
       "</style>\n",
       "<table border=\"1\" class=\"dataframe\">\n",
       "  <thead>\n",
       "    <tr style=\"text-align: right;\">\n",
       "      <th></th>\n",
       "      <th>studytime</th>\n",
       "      <th>failures</th>\n",
       "      <th>Dalc</th>\n",
       "      <th>absences</th>\n",
       "      <th>G1</th>\n",
       "      <th>G2</th>\n",
       "      <th>G3</th>\n",
       "    </tr>\n",
       "  </thead>\n",
       "  <tbody>\n",
       "    <tr>\n",
       "      <th>count</th>\n",
       "      <td>395.000000</td>\n",
       "      <td>395.000000</td>\n",
       "      <td>395.000000</td>\n",
       "      <td>395.000000</td>\n",
       "      <td>395.000000</td>\n",
       "      <td>395.000000</td>\n",
       "      <td>395.000000</td>\n",
       "    </tr>\n",
       "    <tr>\n",
       "      <th>mean</th>\n",
       "      <td>2.035443</td>\n",
       "      <td>0.334177</td>\n",
       "      <td>1.481013</td>\n",
       "      <td>5.708861</td>\n",
       "      <td>10.908861</td>\n",
       "      <td>10.713924</td>\n",
       "      <td>10.415190</td>\n",
       "    </tr>\n",
       "    <tr>\n",
       "      <th>std</th>\n",
       "      <td>0.839240</td>\n",
       "      <td>0.743651</td>\n",
       "      <td>0.890741</td>\n",
       "      <td>8.003096</td>\n",
       "      <td>3.319195</td>\n",
       "      <td>3.761505</td>\n",
       "      <td>4.581443</td>\n",
       "    </tr>\n",
       "    <tr>\n",
       "      <th>min</th>\n",
       "      <td>1.000000</td>\n",
       "      <td>0.000000</td>\n",
       "      <td>1.000000</td>\n",
       "      <td>0.000000</td>\n",
       "      <td>3.000000</td>\n",
       "      <td>0.000000</td>\n",
       "      <td>0.000000</td>\n",
       "    </tr>\n",
       "    <tr>\n",
       "      <th>25%</th>\n",
       "      <td>1.000000</td>\n",
       "      <td>0.000000</td>\n",
       "      <td>1.000000</td>\n",
       "      <td>0.000000</td>\n",
       "      <td>8.000000</td>\n",
       "      <td>9.000000</td>\n",
       "      <td>8.000000</td>\n",
       "    </tr>\n",
       "    <tr>\n",
       "      <th>50%</th>\n",
       "      <td>2.000000</td>\n",
       "      <td>0.000000</td>\n",
       "      <td>1.000000</td>\n",
       "      <td>4.000000</td>\n",
       "      <td>11.000000</td>\n",
       "      <td>11.000000</td>\n",
       "      <td>11.000000</td>\n",
       "    </tr>\n",
       "    <tr>\n",
       "      <th>75%</th>\n",
       "      <td>2.000000</td>\n",
       "      <td>0.000000</td>\n",
       "      <td>2.000000</td>\n",
       "      <td>8.000000</td>\n",
       "      <td>13.000000</td>\n",
       "      <td>13.000000</td>\n",
       "      <td>14.000000</td>\n",
       "    </tr>\n",
       "    <tr>\n",
       "      <th>max</th>\n",
       "      <td>4.000000</td>\n",
       "      <td>3.000000</td>\n",
       "      <td>5.000000</td>\n",
       "      <td>75.000000</td>\n",
       "      <td>19.000000</td>\n",
       "      <td>19.000000</td>\n",
       "      <td>20.000000</td>\n",
       "    </tr>\n",
       "  </tbody>\n",
       "</table>\n",
       "</div>"
      ],
      "text/plain": [
       "        studytime    failures        Dalc    absences          G1          G2  \\\n",
       "count  395.000000  395.000000  395.000000  395.000000  395.000000  395.000000   \n",
       "mean     2.035443    0.334177    1.481013    5.708861   10.908861   10.713924   \n",
       "std      0.839240    0.743651    0.890741    8.003096    3.319195    3.761505   \n",
       "min      1.000000    0.000000    1.000000    0.000000    3.000000    0.000000   \n",
       "25%      1.000000    0.000000    1.000000    0.000000    8.000000    9.000000   \n",
       "50%      2.000000    0.000000    1.000000    4.000000   11.000000   11.000000   \n",
       "75%      2.000000    0.000000    2.000000    8.000000   13.000000   13.000000   \n",
       "max      4.000000    3.000000    5.000000   75.000000   19.000000   19.000000   \n",
       "\n",
       "               G3  \n",
       "count  395.000000  \n",
       "mean    10.415190  \n",
       "std      4.581443  \n",
       "min      0.000000  \n",
       "25%      8.000000  \n",
       "50%     11.000000  \n",
       "75%     14.000000  \n",
       "max     20.000000  "
      ]
     },
     "execution_count": 2,
     "metadata": {},
     "output_type": "execute_result"
    }
   ],
   "source": [
    "df = pd.read_csv('C:\\PortugalMathLinearRegression.csv')\n",
    "df.describe()"
   ]
  },
  {
   "cell_type": "code",
   "execution_count": 3,
   "metadata": {},
   "outputs": [
    {
     "data": {
      "text/plain": [
       "Index(['studytime', 'failures', 'Dalc', 'absences', 'G1', 'G2', 'G3'], dtype='object')"
      ]
     },
     "execution_count": 3,
     "metadata": {},
     "output_type": "execute_result"
    }
   ],
   "source": [
    "df.columns"
   ]
  },
  {
   "cell_type": "code",
   "execution_count": 4,
   "metadata": {},
   "outputs": [
    {
     "data": {
      "text/plain": [
       "studytime    0\n",
       "failures     0\n",
       "Dalc         0\n",
       "absences     0\n",
       "G1           0\n",
       "G2           0\n",
       "G3           0\n",
       "dtype: int64"
      ]
     },
     "execution_count": 4,
     "metadata": {},
     "output_type": "execute_result"
    }
   ],
   "source": [
    "df.isnull().sum()"
   ]
  },
  {
   "cell_type": "code",
   "execution_count": 5,
   "metadata": {},
   "outputs": [
    {
     "data": {
      "text/plain": [
       "studytime    int64\n",
       "failures     int64\n",
       "Dalc         int64\n",
       "absences     int64\n",
       "G1           int64\n",
       "G2           int64\n",
       "G3           int64\n",
       "dtype: object"
      ]
     },
     "execution_count": 5,
     "metadata": {},
     "output_type": "execute_result"
    }
   ],
   "source": [
    "df.dtypes"
   ]
  },
  {
   "cell_type": "markdown",
   "metadata": {},
   "source": [
    "It was determined that both G1 and G2 correlate strongly with the target variable, with G1 having slightly more variance. Graphs of both variables are reproduced below in an overlayed fashion to show this."
   ]
  },
  {
   "cell_type": "code",
   "execution_count": 6,
   "metadata": {},
   "outputs": [
    {
     "data": {
      "text/plain": [
       "[<matplotlib.lines.Line2D at 0x122bb478c70>]"
      ]
     },
     "execution_count": 6,
     "metadata": {},
     "output_type": "execute_result"
    },
    {
     "data": {
      "image/png": "[encoded data removed]",
      "text/plain": [
       "<Figure size 432x288 with 1 Axes>"
      ]
     },
     "metadata": {
      "needs_background": "light"
     },
     "output_type": "display_data"
    }
   ],
   "source": [
    "plt.subplot(1,1,1)\n",
    "plt.plot(df.G1, df.G3, 'bo') #Test 1 in blue\n",
    "plt.xlabel('First and Second Tests')\n",
    "plt.ylabel('Final Test')\n",
    "\n",
    "plt.plot(df.G2, df.G3, 'go') #Test 2 in green"
   ]
  },
  {
   "cell_type": "markdown",
   "metadata": {},
   "source": [
    "Intuitively, G2 seems to make a better predictor than G1, but both will be tested for thoroughness and as a sanity check.\n",
    "After preparing the data frames I declare some dummy variables for the sake of legibility and split the data into testing and training sets."
   ]
  },
  {
   "cell_type": "code",
   "execution_count": 7,
   "metadata": {},
   "outputs": [],
   "source": [
    "singleVarG1_df = pd.DataFrame(df, columns = ['G1'])\n",
    "singleVarG2_df = pd.DataFrame(df, columns = ['G2'])\n",
    "Y = df.G3\n",
    "X1_train, X1_test, Y1_train, Y1_test = train_test_split(singleVarG1_df, Y , test_size = 0.2, random_state = 1)\n",
    "X2_train, X2_test, Y2_train, Y2_test = train_test_split(singleVarG2_df, Y , test_size = 0.2, random_state = 1)"
   ]
  },
  {
   "cell_type": "markdown",
   "metadata": {},
   "source": [
    "Now it's time to initialize, train, then compare the scores of both models. "
   ]
  },
  {
   "cell_type": "code",
   "execution_count": 8,
   "metadata": {},
   "outputs": [
    {
     "name": "stdout",
     "output_type": "stream",
     "text": [
      "First test predictor: 0.6110950109682678 \n",
      "Second test predictor: 0.7818848166971014\n"
     ]
    }
   ],
   "source": [
    "linearModel = linear_model.LinearRegression()\n",
    "\n",
    "modelG1 = linearModel.fit(X1_train,Y1_train)\n",
    "prediction1Var = linearModel.predict(X1_test)\n",
    "\n",
    "modelG2 = linearModel.fit(X2_train,Y2_train)\n",
    "prediction1Var = linearModel.predict(X2_test)\n",
    "\n",
    "print(\"First test predictor:\", modelG1.score(X1_test,Y1_test), \"\\nSecond test predictor:\", modelG2.score(X2_test,Y2_test))"
   ]
  },
  {
   "cell_type": "markdown",
   "metadata": {},
   "source": [
    "No surprises so far, but perhaps using multiple variables will yield improved results. Since G1 and G2 are correlated it's unlikely that the improvement will be significant (indeed the added variance may decrease accuracy), but will be a stepping stone to further improvements."
   ]
  },
  {
   "cell_type": "code",
   "execution_count": 10,
   "metadata": {},
   "outputs": [
    {
     "data": {
      "text/plain": [
       "0.7818293776583642"
      ]
     },
     "execution_count": 10,
     "metadata": {},
     "output_type": "execute_result"
    }
   ],
   "source": [
    "collegeAdmit2Vars_df = pd.DataFrame(df, columns = ['G1','G2'])\n",
    "\n",
    "X3_train, X3_test, Y3_train, Y3_test = train_test_split(collegeAdmit2Vars_df, Y, test_size = 0.2, random_state = 1)\n",
    "\n",
    "model2Vars = linearModel.fit(X3_train, Y3_train)\n",
    "\n",
    "prediction2Vars = linearModel.predict(X3_test)\n",
    "\n",
    "model2Vars.score(X3_test, Y3_test)"
   ]
  },
  {
   "cell_type": "markdown",
   "metadata": {},
   "source": [
    "So adding the first and second tests to the model together actually increased the error slightly. Now it's time to test the other factors along with G2 to see if they can increase the predictive power of the model. Since the data here is so small it's computationally feasible to simply run linear regression analysis for G2 and the remaining factors iteratively. "
   ]
  },
  {
   "cell_type": "code",
   "execution_count": 11,
   "metadata": {},
   "outputs": [
    {
     "name": "stdout",
     "output_type": "stream",
     "text": [
      "studytime 0.7835264565029839\n",
      "failures 0.788630621982889\n",
      "Dalc 0.7816191522818516\n",
      "absences 0.7908396200419918\n",
      "G1 0.7818293776583642\n"
     ]
    }
   ],
   "source": [
    "for i in df.columns.drop(['G3','G2']):\n",
    "    collegeAdmit2Vars_df = pd.DataFrame(df, columns = [i,'G2'])\n",
    "    X3_train, X3_test, Y3_train, Y3_test = train_test_split(collegeAdmit2Vars_df, Y, test_size = 0.2, random_state = 1)\n",
    "    model2Vars = linearModel.fit(X3_train, Y3_train)\n",
    "    prediction2Vars = linearModel.predict(X3_test)\n",
    "    model2Vars.score(X3_test, Y3_test)\n",
    "    print(i, model2Vars.score(X3_test, Y3_test))"
   ]
  },
  {
   "cell_type": "markdown",
   "metadata": {},
   "source": [
    "It appears that combining G2 with the student's total absences provides the largest increase in accuracy. While it's possible to continue in this manner for 3,4,5, and 6 variables, these increases will likely be marginal at best. Instead, let's train a model using all of the factors and see if the increase is significant:"
   ]
  },
  {
   "cell_type": "code",
   "execution_count": 12,
   "metadata": {},
   "outputs": [
    {
     "data": {
      "text/plain": [
       "0.7978303683597092"
      ]
     },
     "execution_count": 12,
     "metadata": {},
     "output_type": "execute_result"
    }
   ],
   "source": [
    "Xfin_train, Xfin_test, Yfin_train, Yfin_test = train_test_split(df.drop('G3', axis = 1), Y, test_size = 0.2, random_state = 1)\n",
    "modelAllVars = linearModel.fit(Xfin_train, Yfin_train)\n",
    "predictionAllVars = linearModel.predict(Xfin_test)\n",
    "modelAllVars.score(Xfin_test, Yfin_test)"
   ]
  },
  {
   "cell_type": "code",
   "execution_count": 13,
   "metadata": {},
   "outputs": [
    {
     "name": "stdout",
     "output_type": "stream",
     "text": [
      "2.7640323648997684\n"
     ]
    }
   ],
   "source": [
    "print(metrics.mean_squared_error(Yfin_test, predictionAllVars))"
   ]
  },
  {
   "cell_type": "markdown",
   "metadata": {},
   "source": [
    "The increase for using all variables compared to only using G2 was ~.016 or 1.6%. This indicates that while Naive Bayes classification was insufficient for the task, simple linear regression was sufficient and multiple linear regression was unnecessary. Interestingly, the MSE accounts for 2.76 points of variation on the final tests. Since the mean squared is quite sensitive to outliers, it's possible that this could be improved by dropping them. Particular suspects are evident in the earlier graph where a small trail of 0's is present along the first and second test axis."
   ]
  },
  {
   "cell_type": "code",
   "execution_count": 14,
   "metadata": {},
   "outputs": [
    {
     "data": {
      "text/plain": [
       "studytime      0\n",
       "failures     312\n",
       "Dalc           0\n",
       "absences     115\n",
       "G1             0\n",
       "G2            13\n",
       "G3            38\n",
       "dtype: int64"
      ]
     },
     "execution_count": 14,
     "metadata": {},
     "output_type": "execute_result"
    }
   ],
   "source": [
    "(df == 0).sum(axis = 0)"
   ]
  },
  {
   "cell_type": "markdown",
   "metadata": {},
   "source": [
    "Credit for this dataset goes to UCI Machine Learning.\n",
    "\n",
    "The data used in this project was sourced from: https://www.kaggle.com/uciml/student-alcohol-consumption"
   ]
  },
  {
   "cell_type": "code",
   "execution_count": null,
   "metadata": {},
   "outputs": [],
   "source": []
  }
 ],
 "metadata": {
  "kernelspec": {
   "display_name": "Python 3",
   "language": "python",
   "name": "python3"
  },
  "language_info": {
   "codemirror_mode": {
    "name": "ipython",
    "version": 3
   },
   "file_extension": ".py",
   "mimetype": "text/x-python",
   "name": "python",
   "nbconvert_exporter": "python",
   "pygments_lexer": "ipython3",
   "version": "3.8.3"
  }
 },
 "nbformat": 4,
 "nbformat_minor": 4
}
